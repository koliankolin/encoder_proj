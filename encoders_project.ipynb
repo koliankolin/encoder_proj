{
  "nbformat": 4,
  "nbformat_minor": 0,
  "metadata": {
    "colab": {
      "name": "encoders_project.ipynb",
      "version": "0.3.2",
      "provenance": [],
      "collapsed_sections": []
    },
    "kernelspec": {
      "name": "python3",
      "display_name": "Python 3"
    },
    "accelerator": "GPU"
  },
  "cells": [
    {
      "metadata": {
        "id": "eJPmdaY6XTmI",
        "colab_type": "code",
        "outputId": "627acf03-8251-4021-aba5-612be2023d42",
        "colab": {
          "base_uri": "https://localhost:8080/",
          "height": 391
        }
      },
      "cell_type": "code",
      "source": [
        "!wget http://vis-www.cs.umass.edu/lfw/lfw-deepfunneled.tgz -O data.tgz && tar -xf data.tgz && rm -rf data.tgz && mv lfw-deepfunneled dataset\n",
        "!wget http://www.cs.columbia.edu/CAVE/databases/pubfig/download/lfw_attributes.txt"
      ],
      "execution_count": 0,
      "outputs": [
        {
          "output_type": "stream",
          "text": [
            "--2019-02-21 07:53:23--  http://vis-www.cs.umass.edu/lfw/lfw-deepfunneled.tgz\n",
            "Resolving vis-www.cs.umass.edu (vis-www.cs.umass.edu)... 128.119.244.95\n",
            "Connecting to vis-www.cs.umass.edu (vis-www.cs.umass.edu)|128.119.244.95|:80... connected.\n",
            "HTTP request sent, awaiting response... 200 OK\n",
            "Length: 108761145 (104M) [application/x-gzip]\n",
            "Saving to: ‘data.tgz’\n",
            "\n",
            "data.tgz            100%[===================>] 103.72M  30.7MB/s    in 4.7s    \n",
            "\n",
            "2019-02-21 07:53:33 (22.0 MB/s) - ‘data.tgz’ saved [108761145/108761145]\n",
            "\n",
            "--2019-02-21 07:53:36--  http://www.cs.columbia.edu/CAVE/databases/pubfig/download/lfw_attributes.txt\n",
            "Resolving www.cs.columbia.edu (www.cs.columbia.edu)... 128.59.11.206\n",
            "Connecting to www.cs.columbia.edu (www.cs.columbia.edu)|128.59.11.206|:80... connected.\n",
            "HTTP request sent, awaiting response... 200 OK\n",
            "Length: 14879205 (14M) [text/plain]\n",
            "Saving to: ‘lfw_attributes.txt’\n",
            "\n",
            "lfw_attributes.txt  100%[===================>]  14.19M  6.08MB/s    in 2.3s    \n",
            "\n",
            "2019-02-21 07:53:39 (6.08 MB/s) - ‘lfw_attributes.txt’ saved [14879205/14879205]\n",
            "\n"
          ],
          "name": "stdout"
        }
      ]
    },
    {
      "metadata": {
        "id": "BOVjpsIPXb-I",
        "colab_type": "code",
        "colab": {}
      },
      "cell_type": "code",
      "source": [
        "import pandas as pd\n",
        "import numpy as np\n",
        "import cv2\n",
        "import matplotlib.pyplot as plt\n",
        "from torch.utils.data import DataLoader, Dataset\n",
        "import torchvision.transforms as T\n",
        "from sklearn.model_selection import train_test_split\n",
        "from torch.nn import Module\n",
        "import torch.nn as Layers\n",
        "import torch.nn.functional as F\n",
        "from torch import optim as Opt\n",
        "from skimage import io\n",
        "from torchvision import models"
      ],
      "execution_count": 0,
      "outputs": []
    },
    {
      "metadata": {
        "id": "y8p7b_xhwwrp",
        "colab_type": "code",
        "outputId": "c67188e4-78de-4a2b-d602-104ee0bc06b3",
        "colab": {
          "base_uri": "https://localhost:8080/",
          "height": 122
        }
      },
      "cell_type": "code",
      "source": [
        "from google.colab import drive\n",
        "drive.mount('/content/gdrive')"
      ],
      "execution_count": 0,
      "outputs": [
        {
          "output_type": "stream",
          "text": [
            "Go to this URL in a browser: https://accounts.google.com/o/oauth2/auth?client_id=947318989803-6bn6qk8qdgf4n4g3pfee6491hc0brc4i.apps.googleusercontent.com&redirect_uri=urn%3Aietf%3Awg%3Aoauth%3A2.0%3Aoob&scope=email%20https%3A%2F%2Fwww.googleapis.com%2Fauth%2Fdocs.test%20https%3A%2F%2Fwww.googleapis.com%2Fauth%2Fdrive%20https%3A%2F%2Fwww.googleapis.com%2Fauth%2Fdrive.photos.readonly%20https%3A%2F%2Fwww.googleapis.com%2Fauth%2Fpeopleapi.readonly&response_type=code\n",
            "\n",
            "Enter your authorization code:\n",
            "··········\n",
            "Mounted at /content/gdrive\n"
          ],
          "name": "stdout"
        }
      ]
    },
    {
      "metadata": {
        "id": "Kh7Shx30OjS7",
        "colab_type": "code",
        "outputId": "10e9a433-74ca-4144-fecd-d5c95e720aeb",
        "colab": {
          "base_uri": "https://localhost:8080/",
          "height": 34
        }
      },
      "cell_type": "code",
      "source": [
        "!ls"
      ],
      "execution_count": 0,
      "outputs": [
        {
          "output_type": "stream",
          "text": [
            "sample_data\n"
          ],
          "name": "stdout"
        }
      ]
    },
    {
      "metadata": {
        "id": "rJcBFv8vYuAj",
        "colab_type": "code",
        "colab": {}
      },
      "cell_type": "code",
      "source": [
        "data = pd.read_csv(\"lfw_attributes.txt\", sep='\\t', skiprows=1)"
      ],
      "execution_count": 0,
      "outputs": []
    },
    {
      "metadata": {
        "id": "nS2MvqqLb00G",
        "colab_type": "code",
        "outputId": "86dd7b84-9729-4d80-b6e6-a733477c514f",
        "colab": {
          "base_uri": "https://localhost:8080/",
          "height": 389
        }
      },
      "cell_type": "code",
      "source": [
        "data.head()"
      ],
      "execution_count": 0,
      "outputs": [
        {
          "output_type": "execute_result",
          "data": {
            "text/html": [
              "<div>\n",
              "<style scoped>\n",
              "    .dataframe tbody tr th:only-of-type {\n",
              "        vertical-align: middle;\n",
              "    }\n",
              "\n",
              "    .dataframe tbody tr th {\n",
              "        vertical-align: top;\n",
              "    }\n",
              "\n",
              "    .dataframe thead th {\n",
              "        text-align: right;\n",
              "    }\n",
              "</style>\n",
              "<table border=\"1\" class=\"dataframe\">\n",
              "  <thead>\n",
              "    <tr style=\"text-align: right;\">\n",
              "      <th></th>\n",
              "      <th>#</th>\n",
              "      <th>person</th>\n",
              "      <th>imagenum</th>\n",
              "      <th>Male</th>\n",
              "      <th>Asian</th>\n",
              "      <th>White</th>\n",
              "      <th>Black</th>\n",
              "      <th>Baby</th>\n",
              "      <th>Child</th>\n",
              "      <th>Youth</th>\n",
              "      <th>...</th>\n",
              "      <th>Pale Skin</th>\n",
              "      <th>5 o' Clock Shadow</th>\n",
              "      <th>Strong Nose-Mouth Lines</th>\n",
              "      <th>Wearing Lipstick</th>\n",
              "      <th>Flushed Face</th>\n",
              "      <th>High Cheekbones</th>\n",
              "      <th>Brown Eyes</th>\n",
              "      <th>Wearing Earrings</th>\n",
              "      <th>Wearing Necktie</th>\n",
              "      <th>Wearing Necklace</th>\n",
              "    </tr>\n",
              "  </thead>\n",
              "  <tbody>\n",
              "    <tr>\n",
              "      <th>0</th>\n",
              "      <td>Aaron Eckhart</td>\n",
              "      <td>1</td>\n",
              "      <td>1.568346</td>\n",
              "      <td>-1.889043</td>\n",
              "      <td>1.737203</td>\n",
              "      <td>-0.929729</td>\n",
              "      <td>-1.471799</td>\n",
              "      <td>-0.195580</td>\n",
              "      <td>-0.835609</td>\n",
              "      <td>-0.351468</td>\n",
              "      <td>...</td>\n",
              "      <td>1.166118</td>\n",
              "      <td>-1.164916</td>\n",
              "      <td>-1.139990</td>\n",
              "      <td>-2.371746</td>\n",
              "      <td>-1.299932</td>\n",
              "      <td>-0.414682</td>\n",
              "      <td>-1.144902</td>\n",
              "      <td>0.694007</td>\n",
              "      <td>-0.826609</td>\n",
              "      <td>NaN</td>\n",
              "    </tr>\n",
              "    <tr>\n",
              "      <th>1</th>\n",
              "      <td>Aaron Guiel</td>\n",
              "      <td>1</td>\n",
              "      <td>0.169851</td>\n",
              "      <td>-0.982408</td>\n",
              "      <td>0.422709</td>\n",
              "      <td>-1.282184</td>\n",
              "      <td>-1.360060</td>\n",
              "      <td>-0.867002</td>\n",
              "      <td>-0.452293</td>\n",
              "      <td>-0.197521</td>\n",
              "      <td>...</td>\n",
              "      <td>-0.397680</td>\n",
              "      <td>0.874160</td>\n",
              "      <td>-0.945431</td>\n",
              "      <td>-0.268649</td>\n",
              "      <td>-0.006244</td>\n",
              "      <td>-0.030406</td>\n",
              "      <td>-0.480128</td>\n",
              "      <td>0.666760</td>\n",
              "      <td>-0.496559</td>\n",
              "      <td>NaN</td>\n",
              "    </tr>\n",
              "    <tr>\n",
              "      <th>2</th>\n",
              "      <td>Aaron Patterson</td>\n",
              "      <td>1</td>\n",
              "      <td>0.997749</td>\n",
              "      <td>-1.364195</td>\n",
              "      <td>-0.157377</td>\n",
              "      <td>-0.756447</td>\n",
              "      <td>-1.891825</td>\n",
              "      <td>-0.871526</td>\n",
              "      <td>-0.862893</td>\n",
              "      <td>0.031445</td>\n",
              "      <td>...</td>\n",
              "      <td>1.884745</td>\n",
              "      <td>-0.999765</td>\n",
              "      <td>-1.359858</td>\n",
              "      <td>-1.912108</td>\n",
              "      <td>-1.095634</td>\n",
              "      <td>0.915126</td>\n",
              "      <td>-0.572332</td>\n",
              "      <td>0.144262</td>\n",
              "      <td>-0.841231</td>\n",
              "      <td>NaN</td>\n",
              "    </tr>\n",
              "    <tr>\n",
              "      <th>3</th>\n",
              "      <td>Aaron Peirsol</td>\n",
              "      <td>1</td>\n",
              "      <td>1.122719</td>\n",
              "      <td>-1.997799</td>\n",
              "      <td>1.916144</td>\n",
              "      <td>-2.514214</td>\n",
              "      <td>-2.580071</td>\n",
              "      <td>-1.404239</td>\n",
              "      <td>0.057551</td>\n",
              "      <td>0.000196</td>\n",
              "      <td>...</td>\n",
              "      <td>-0.176089</td>\n",
              "      <td>1.108125</td>\n",
              "      <td>-1.600944</td>\n",
              "      <td>-3.264613</td>\n",
              "      <td>0.813418</td>\n",
              "      <td>0.308631</td>\n",
              "      <td>-0.848693</td>\n",
              "      <td>0.475941</td>\n",
              "      <td>-0.447025</td>\n",
              "      <td>NaN</td>\n",
              "    </tr>\n",
              "    <tr>\n",
              "      <th>4</th>\n",
              "      <td>Aaron Peirsol</td>\n",
              "      <td>2</td>\n",
              "      <td>1.078214</td>\n",
              "      <td>-2.008098</td>\n",
              "      <td>1.676211</td>\n",
              "      <td>-2.278056</td>\n",
              "      <td>-2.651845</td>\n",
              "      <td>-1.348408</td>\n",
              "      <td>0.649089</td>\n",
              "      <td>0.017656</td>\n",
              "      <td>...</td>\n",
              "      <td>-0.955283</td>\n",
              "      <td>0.119113</td>\n",
              "      <td>-1.128176</td>\n",
              "      <td>-3.161048</td>\n",
              "      <td>0.082680</td>\n",
              "      <td>-0.439614</td>\n",
              "      <td>-0.359859</td>\n",
              "      <td>-0.760774</td>\n",
              "      <td>-0.410152</td>\n",
              "      <td>NaN</td>\n",
              "    </tr>\n",
              "  </tbody>\n",
              "</table>\n",
              "<p>5 rows × 76 columns</p>\n",
              "</div>"
            ],
            "text/plain": [
              "                 #  person  imagenum      Male     Asian     White     Black  \\\n",
              "0    Aaron Eckhart       1  1.568346 -1.889043  1.737203 -0.929729 -1.471799   \n",
              "1      Aaron Guiel       1  0.169851 -0.982408  0.422709 -1.282184 -1.360060   \n",
              "2  Aaron Patterson       1  0.997749 -1.364195 -0.157377 -0.756447 -1.891825   \n",
              "3    Aaron Peirsol       1  1.122719 -1.997799  1.916144 -2.514214 -2.580071   \n",
              "4    Aaron Peirsol       2  1.078214 -2.008098  1.676211 -2.278056 -2.651845   \n",
              "\n",
              "       Baby     Child     Youth        ...         Pale Skin  \\\n",
              "0 -0.195580 -0.835609 -0.351468        ...          1.166118   \n",
              "1 -0.867002 -0.452293 -0.197521        ...         -0.397680   \n",
              "2 -0.871526 -0.862893  0.031445        ...          1.884745   \n",
              "3 -1.404239  0.057551  0.000196        ...         -0.176089   \n",
              "4 -1.348408  0.649089  0.017656        ...         -0.955283   \n",
              "\n",
              "   5 o' Clock Shadow  Strong Nose-Mouth Lines  Wearing Lipstick  Flushed Face  \\\n",
              "0          -1.164916                -1.139990         -2.371746     -1.299932   \n",
              "1           0.874160                -0.945431         -0.268649     -0.006244   \n",
              "2          -0.999765                -1.359858         -1.912108     -1.095634   \n",
              "3           1.108125                -1.600944         -3.264613      0.813418   \n",
              "4           0.119113                -1.128176         -3.161048      0.082680   \n",
              "\n",
              "   High Cheekbones  Brown Eyes  Wearing Earrings  Wearing Necktie  \\\n",
              "0        -0.414682   -1.144902          0.694007        -0.826609   \n",
              "1        -0.030406   -0.480128          0.666760        -0.496559   \n",
              "2         0.915126   -0.572332          0.144262        -0.841231   \n",
              "3         0.308631   -0.848693          0.475941        -0.447025   \n",
              "4        -0.439614   -0.359859         -0.760774        -0.410152   \n",
              "\n",
              "   Wearing Necklace  \n",
              "0               NaN  \n",
              "1               NaN  \n",
              "2               NaN  \n",
              "3               NaN  \n",
              "4               NaN  \n",
              "\n",
              "[5 rows x 76 columns]"
            ]
          },
          "metadata": {
            "tags": []
          },
          "execution_count": 6
        }
      ]
    },
    {
      "metadata": {
        "id": "JHDtb13fb02u",
        "colab_type": "code",
        "colab": {}
      },
      "cell_type": "code",
      "source": [
        "smiling = data[['#', 'person', 'Smiling']]\n",
        "smiling.columns = ['person', 'number', 'smiling']"
      ],
      "execution_count": 0,
      "outputs": []
    },
    {
      "metadata": {
        "id": "Tzh993Sxb06Q",
        "colab_type": "code",
        "outputId": "a3a6572e-dda0-4df7-fb6c-445e1f616c76",
        "colab": {
          "base_uri": "https://localhost:8080/",
          "height": 563
        }
      },
      "cell_type": "code",
      "source": [
        "smiling.person = smiling.person.str.replace(' ', '_')\n",
        "smiling[\"photo\"] = smiling.iloc[:, :2].apply(lambda x: \"{}_{}.jpg\".format(x[0], str(x[1]).zfill(4)), axis=1)\n",
        "smiling.iloc[np.argsort(smiling.smiling)[:10], :]"
      ],
      "execution_count": 0,
      "outputs": [
        {
          "output_type": "stream",
          "text": [
            "/usr/local/lib/python3.6/dist-packages/pandas/core/generic.py:3643: SettingWithCopyWarning: \n",
            "A value is trying to be set on a copy of a slice from a DataFrame.\n",
            "Try using .loc[row_indexer,col_indexer] = value instead\n",
            "\n",
            "See the caveats in the documentation: http://pandas.pydata.org/pandas-docs/stable/indexing.html#indexing-view-versus-copy\n",
            "  self[name] = value\n",
            "/usr/local/lib/python3.6/dist-packages/ipykernel_launcher.py:2: SettingWithCopyWarning: \n",
            "A value is trying to be set on a copy of a slice from a DataFrame.\n",
            "Try using .loc[row_indexer,col_indexer] = value instead\n",
            "\n",
            "See the caveats in the documentation: http://pandas.pydata.org/pandas-docs/stable/indexing.html#indexing-view-versus-copy\n",
            "  \n"
          ],
          "name": "stderr"
        },
        {
          "output_type": "execute_result",
          "data": {
            "text/html": [
              "<div>\n",
              "<style scoped>\n",
              "    .dataframe tbody tr th:only-of-type {\n",
              "        vertical-align: middle;\n",
              "    }\n",
              "\n",
              "    .dataframe tbody tr th {\n",
              "        vertical-align: top;\n",
              "    }\n",
              "\n",
              "    .dataframe thead th {\n",
              "        text-align: right;\n",
              "    }\n",
              "</style>\n",
              "<table border=\"1\" class=\"dataframe\">\n",
              "  <thead>\n",
              "    <tr style=\"text-align: right;\">\n",
              "      <th></th>\n",
              "      <th>person</th>\n",
              "      <th>number</th>\n",
              "      <th>smiling</th>\n",
              "      <th>photo</th>\n",
              "    </tr>\n",
              "  </thead>\n",
              "  <tbody>\n",
              "    <tr>\n",
              "      <th>12609</th>\n",
              "      <td>Vanessa_Incontrada</td>\n",
              "      <td>4</td>\n",
              "      <td>-2.953572</td>\n",
              "      <td>Vanessa_Incontrada_0004.jpg</td>\n",
              "    </tr>\n",
              "    <tr>\n",
              "      <th>1045</th>\n",
              "      <td>Azra_Akin</td>\n",
              "      <td>3</td>\n",
              "      <td>-2.898542</td>\n",
              "      <td>Azra_Akin_0003.jpg</td>\n",
              "    </tr>\n",
              "    <tr>\n",
              "      <th>9005</th>\n",
              "      <td>Michelle_Rodriguez</td>\n",
              "      <td>2</td>\n",
              "      <td>-2.888022</td>\n",
              "      <td>Michelle_Rodriguez_0002.jpg</td>\n",
              "    </tr>\n",
              "    <tr>\n",
              "      <th>13034</th>\n",
              "      <td>Yekaterina_Guseva</td>\n",
              "      <td>1</td>\n",
              "      <td>-2.872781</td>\n",
              "      <td>Yekaterina_Guseva_0001.jpg</td>\n",
              "    </tr>\n",
              "    <tr>\n",
              "      <th>5624</th>\n",
              "      <td>Jaime_Pressly</td>\n",
              "      <td>1</td>\n",
              "      <td>-2.860385</td>\n",
              "      <td>Jaime_Pressly_0001.jpg</td>\n",
              "    </tr>\n",
              "    <tr>\n",
              "      <th>4681</th>\n",
              "      <td>Gloria_Macapagal_Arroyo</td>\n",
              "      <td>38</td>\n",
              "      <td>-2.836526</td>\n",
              "      <td>Gloria_Macapagal_Arroyo_0038.jpg</td>\n",
              "    </tr>\n",
              "    <tr>\n",
              "      <th>9755</th>\n",
              "      <td>Paris_Hilton</td>\n",
              "      <td>1</td>\n",
              "      <td>-2.818490</td>\n",
              "      <td>Paris_Hilton_0001.jpg</td>\n",
              "    </tr>\n",
              "    <tr>\n",
              "      <th>1955</th>\n",
              "      <td>Cheryl_James</td>\n",
              "      <td>1</td>\n",
              "      <td>-2.817712</td>\n",
              "      <td>Cheryl_James_0001.jpg</td>\n",
              "    </tr>\n",
              "    <tr>\n",
              "      <th>6151</th>\n",
              "      <td>Jennifer_Lopez</td>\n",
              "      <td>13</td>\n",
              "      <td>-2.807535</td>\n",
              "      <td>Jennifer_Lopez_0013.jpg</td>\n",
              "    </tr>\n",
              "    <tr>\n",
              "      <th>983</th>\n",
              "      <td>Ashlea_Talbot</td>\n",
              "      <td>1</td>\n",
              "      <td>-2.790396</td>\n",
              "      <td>Ashlea_Talbot_0001.jpg</td>\n",
              "    </tr>\n",
              "  </tbody>\n",
              "</table>\n",
              "</div>"
            ],
            "text/plain": [
              "                        person  number   smiling  \\\n",
              "12609       Vanessa_Incontrada       4 -2.953572   \n",
              "1045                 Azra_Akin       3 -2.898542   \n",
              "9005        Michelle_Rodriguez       2 -2.888022   \n",
              "13034        Yekaterina_Guseva       1 -2.872781   \n",
              "5624             Jaime_Pressly       1 -2.860385   \n",
              "4681   Gloria_Macapagal_Arroyo      38 -2.836526   \n",
              "9755              Paris_Hilton       1 -2.818490   \n",
              "1955              Cheryl_James       1 -2.817712   \n",
              "6151            Jennifer_Lopez      13 -2.807535   \n",
              "983              Ashlea_Talbot       1 -2.790396   \n",
              "\n",
              "                                  photo  \n",
              "12609       Vanessa_Incontrada_0004.jpg  \n",
              "1045                 Azra_Akin_0003.jpg  \n",
              "9005        Michelle_Rodriguez_0002.jpg  \n",
              "13034        Yekaterina_Guseva_0001.jpg  \n",
              "5624             Jaime_Pressly_0001.jpg  \n",
              "4681   Gloria_Macapagal_Arroyo_0038.jpg  \n",
              "9755              Paris_Hilton_0001.jpg  \n",
              "1955              Cheryl_James_0001.jpg  \n",
              "6151            Jennifer_Lopez_0013.jpg  \n",
              "983              Ashlea_Talbot_0001.jpg  "
            ]
          },
          "metadata": {
            "tags": []
          },
          "execution_count": 8
        }
      ]
    },
    {
      "metadata": {
        "id": "lSSyFXBnb09T",
        "colab_type": "code",
        "colab": {}
      },
      "cell_type": "code",
      "source": [
        "def show_im(person, photo_path):\n",
        "  img = cv2.imread(f\"dataset/{person}/{photo_path}\")\n",
        "  print(img.shape)\n",
        "  return \n",
        "  plt.imshow(img[..., [2, 1, 0]])\n",
        "  plt.show();"
      ],
      "execution_count": 0,
      "outputs": []
    },
    {
      "metadata": {
        "id": "PzLISyh3b1Ac",
        "colab_type": "code",
        "outputId": "8f6bcd5b-f44e-44e8-d66a-2f36b71f7e76",
        "colab": {
          "base_uri": "https://localhost:8080/",
          "height": 68
        }
      },
      "cell_type": "code",
      "source": [
        "for i in range(3):\n",
        "  num_rand = np.random.randint(0, data.shape[0])\n",
        "  photo = smiling.loc[num_rand, [\"person\", \"photo\"]]\n",
        "  show_im(*photo)"
      ],
      "execution_count": 0,
      "outputs": [
        {
          "output_type": "stream",
          "text": [
            "(250, 250, 3)\n",
            "(250, 250, 3)\n",
            "(250, 250, 3)\n"
          ],
          "name": "stdout"
        }
      ]
    },
    {
      "metadata": {
        "id": "ysE4nDTQb1DN",
        "colab_type": "code",
        "colab": {}
      },
      "cell_type": "code",
      "source": [
        "class Images(Dataset):\n",
        "  def __init__(self, root_dir, data, transforms=None):\n",
        "    self.data = data.reset_index().drop(\"index\", axis=1)\n",
        "    self.transforms = transforms\n",
        "    self.root_dir = root_dir\n",
        "  \n",
        "  def __len__(self):\n",
        "    return len(self.data)\n",
        "  \n",
        "  def __getitem__(self, idx):\n",
        "    img_name = self.root_dir + \"/\".join(self.data.loc[idx, [\"person\", \"photo\"]])\n",
        "    img = io.imread(img_name) / 255\n",
        "    img = cv2.resize(img, (48, 48))\n",
        "    \n",
        "    if self.transforms:\n",
        "      img = self.transforms(img)\n",
        "      \n",
        "    return img"
      ],
      "execution_count": 0,
      "outputs": []
    },
    {
      "metadata": {
        "id": "zt8Ey-y9b1GE",
        "colab_type": "code",
        "colab": {}
      },
      "cell_type": "code",
      "source": [
        "transform = T.Compose([\n",
        "#     ToPILImage(),\n",
        "#     Resize((28, 28)),\n",
        "    T.ToTensor(),\n",
        "#     Resize(28),\n",
        "#     T.Normalize([0.485, 0.456, 0.406], [0.229, 0.224, 0.225])\n",
        "])"
      ],
      "execution_count": 0,
      "outputs": []
    },
    {
      "metadata": {
        "id": "MrQjXOAbb1I-",
        "colab_type": "code",
        "colab": {}
      },
      "cell_type": "code",
      "source": [
        "\n",
        "train, test = train_test_split(smiling, test_size=0.01)\n",
        "# train = smiling[:40]\n",
        "train = Images(\"dataset/\", train, transform)\n",
        "# test = Images(\"dataset/\", test, transform)\n",
        "train = DataLoader(train, batch_size=32, shuffle=True, num_workers=4)\n",
        "# test = DataLoader(test, batch_size=32, shuffle=True, num_workers=4)"
      ],
      "execution_count": 0,
      "outputs": []
    },
    {
      "metadata": {
        "id": "R3Uskqh2b1Lf",
        "colab_type": "code",
        "outputId": "401b0ee0-b87a-4d59-efc5-9f1bd50f63fc",
        "colab": {
          "base_uri": "https://localhost:8080/",
          "height": 34
        }
      },
      "cell_type": "code",
      "source": [
        "for i in train:\n",
        "  print(i.shape)\n",
        "  break"
      ],
      "execution_count": 0,
      "outputs": [
        {
          "output_type": "stream",
          "text": [
            "torch.Size([32, 3, 64, 64])\n"
          ],
          "name": "stdout"
        }
      ]
    },
    {
      "metadata": {
        "id": "gISDInmit-6W",
        "colab_type": "code",
        "colab": {}
      },
      "cell_type": "code",
      "source": [
        "incept = models.Inception3()"
      ],
      "execution_count": 0,
      "outputs": []
    },
    {
      "metadata": {
        "id": "QsqxFSnNt__2",
        "colab_type": "code",
        "colab": {}
      },
      "cell_type": "code",
      "source": [
        "incept.modules"
      ],
      "execution_count": 0,
      "outputs": []
    },
    {
      "metadata": {
        "id": "bLgv_nFIuAPG",
        "colab_type": "code",
        "colab": {}
      },
      "cell_type": "code",
      "source": [
        "class BasicConv2d(Module):\n",
        "  def __init__(self, D_in, D_out, kernel_size=3, stride=1, padding=1):\n",
        "    super().__init__()\n",
        "    self.conv = Layers.Conv2d(D_in, D_out, kernel_size=kernel_size, stride=stride, padding=padding)\n",
        "    self.bn = Layers.BatchNorm2d(D_out, eps=0.001)\n",
        "    \n",
        "  def forward(self, x):\n",
        "    x = self.bn(self.conv(x))\n",
        "    \n",
        "    return x\n",
        "\n",
        "class AutoEnc_a_forward(Module):\n",
        "  def __init__(self):\n",
        "    super().__init__()\n",
        "    self.conv_1 = BasicConv2d(3, 64)\n",
        "    self.conv_2 = BasicConv2d(64, 192)\n",
        "  \n",
        "  def forward(self, x):\n",
        "    x = F.max_pool2d(self.conv_1(x), 2) # 64 32 32\n",
        "    x = F.max_pool2d(self.conv_2(x), 2) # 192 16 16\n",
        "    \n",
        "    return x # 192 16 16\n",
        "\n",
        "class AutoEnc_b_forward(Module):\n",
        "  def __init__(self):\n",
        "    super().__init__()\n",
        "    self.conv_1 = BasicConv2d(192, 480)\n",
        "    self.conv_2 = BasicConv2d(480, 256)\n",
        "    self.conv_3 = BasicConv2d(256, 64)\n",
        "    self.conv_4 = BasicConv2d(64, 32)\n",
        "  \n",
        "  def forward(self, x):\n",
        "    x = self.conv_2(self.conv_1(x))\n",
        "    x = self.conv_4(self.conv_3(x))\n",
        "    \n",
        "    return F.max_pool2d(x, 2) # 32 8 8\n",
        "\n",
        "class AutoEnc_c_forward(Module):\n",
        "  def __init__(self):\n",
        "    super().__init__()\n",
        "    self.conv_1 = BasicConv2d(32, 192)\n",
        "    self.conv_2 = BasicConv2d(192, 480)\n",
        "    self.conv_3 = BasicConv2d(480, 224)\n",
        "    self.conv_4 = BasicConv2d(224, 32)\n",
        "  \n",
        "  def forward(self, x):\n",
        "    x = self.conv_2(self.conv_1(x))\n",
        "    x = self.conv_4(self.conv_3(x))\n",
        "    \n",
        "    return F.max_pool2d(x, 2) # 32 4 4\n",
        "  \n",
        "class AutoEnc_d_forward(Module):\n",
        "  def __init__(self):\n",
        "    super().__init__()\n",
        "    self.conv_1 = BasicConv2d(32, 192)\n",
        "    self.conv_2 = BasicConv2d(192, 256)\n",
        "    self.conv_3 = BasicConv2d(256, 480)\n",
        "    self.conv_4 = BasicConv2d(480, 832)\n",
        "    self.conv_5 = BasicConv2d(832, 512)\n",
        "    self.conv_6 = BasicConv2d(512, 1024)\n",
        "  \n",
        "  def forward(self, x):\n",
        "    x = self.conv_2(self.conv_1(x))\n",
        "    x = self.conv_4(self.conv_3(x))\n",
        "    x = self.conv_6(self.conv_5(x))\n",
        "    \n",
        "    return F.avg_pool2d(x, 4) # 1024 1 1\n",
        "\n",
        "class AutoEnc_d_backward(Module):\n",
        "  def __init__(self):\n",
        "    super().__init__()\n",
        "    self.conv_1 = BasicConv2d(1024, 512)\n",
        "    self.conv_2 = BasicConv2d(512, 832)\n",
        "    self.conv_3 = BasicConv2d(832, 480)\n",
        "    self.conv_4 = BasicConv2d(480, 256)\n",
        "    self.conv_5 = BasicConv2d(256, 192)\n",
        "    self.conv_6 = BasicConv2d(192, 32)\n",
        "  \n",
        "  def forward(self, x):\n",
        "    x = F.interpolate(x, 4) # 1024 4 4\n",
        "    x = self.conv_2(self.conv_1(x))\n",
        "    x = self.conv_4(self.conv_3(x))\n",
        "    x = self.conv_6(self.conv_5(x))\n",
        "    \n",
        "    return x # 32 4 4\n",
        "\n",
        "class AutoEnc_c_backward(Module):\n",
        "  def __init__(self):\n",
        "    super().__init__()\n",
        "    self.conv_1 = BasicConv2d(32, 224)\n",
        "    self.conv_2 = BasicConv2d(224, 480)\n",
        "    self.conv_3 = BasicConv2d(480, 192)\n",
        "    self.conv_4 = BasicConv2d(192, 32)\n",
        " \n",
        "  def forward(self, x):\n",
        "    x = F.interpolate(x, 8) # 32 8 8\n",
        "    x = self.conv_2(self.conv_1(x))\n",
        "    x = self.conv_4(self.conv_3(x))\n",
        "    \n",
        "    return x # 32 8 8\n",
        "  \n",
        "class AutoEnc_b_backward(Module):\n",
        "  def __init__(self):\n",
        "    super().__init__()\n",
        "    self.conv_1 = BasicConv2d(32, 64)\n",
        "    self.conv_2 = BasicConv2d(64, 256)\n",
        "    self.conv_3 = BasicConv2d(256, 480)\n",
        "    self.conv_4 = BasicConv2d(480, 192)\n",
        "  \n",
        "  def forward(self, x):\n",
        "    x = F.interpolate(x, 16) # 32 16 16\n",
        "    x = self.conv_2(self.conv_1(x))\n",
        "    x = self.conv_4(self.conv_3(x))\n",
        "    \n",
        "    return x # 192 16 16\n",
        "\n",
        "class AutoEnc_a_backward(Module):\n",
        "  def __init__(self):\n",
        "    super().__init__()\n",
        "    self.conv_1 = BasicConv2d(192, 64)\n",
        "    self.conv_2 = BasicConv2d(64, 3)\n",
        "    \n",
        "  def forward(self, x):\n",
        "    x = F.interpolate(x, 32) # 192 32 32\n",
        "    x = self.conv_1(x) # 64 32 32\n",
        "    x = F.interpolate(x, 64) # 64 64 64\n",
        "    x = self.conv_2(x) \n",
        "    \n",
        "    return x # 3 64 64\n",
        "    \n",
        "class AutoEncoder(Module):\n",
        "  def __init__(self):\n",
        "    super().__init__()\n",
        "    self.enc = Layers.Sequential(\n",
        "        AutoEnc_a_forward(), # \n",
        "        AutoEnc_b_forward(),\n",
        "        AutoEnc_c_forward(),\n",
        "        AutoEnc_d_forward()\n",
        "    )\n",
        "    self.fc_forward = Layers.Linear(1024, 100) \n",
        "    self.dec = Layers.Sequential(\n",
        "        AutoEnc_d_backward(),\n",
        "        AutoEnc_c_backward(),\n",
        "        AutoEnc_b_backward(),\n",
        "        AutoEnc_a_backward(),\n",
        "    )\n",
        "    self.fc_backward = Layers.Linear(100, 1024)\n",
        "    \n",
        "  def forward(self, x):\n",
        "    x = self.enc(x)\n",
        "    x = x.view(-1, 1024)\n",
        "    enc = F.relu(self.fc_forward(x))\n",
        "    \n",
        "    x = F.relu(self.fc_backward(enc))\n",
        "    x = x.view(-1, 1024, 1, 1)\n",
        "    dec = self.dec(x)\n",
        "    \n",
        "    return enc, dec"
      ],
      "execution_count": 0,
      "outputs": []
    },
    {
      "metadata": {
        "id": "VGUrUYcnb1Od",
        "colab_type": "code",
        "colab": {}
      },
      "cell_type": "code",
      "source": [
        "class AutoEncoder(Module):\n",
        "  def __init__(self, D_in, H_1, H_2, H_3, H_4, L_1, L_2):\n",
        "    super().__init__()\n",
        "    self.conv_1 = Layers.Conv2d(D_in, H_1, kernel_size=3, stride=1, padding=1)\n",
        "    self.batch_norm_1 = Layers.BatchNorm2d(H_1, eps=0.01)\n",
        "    self.conv_2 = Layers.Conv2d(H_1, H_2, kernel_size=3, stride=1, padding=1)\n",
        "    self.batch_norm_2 = Layers.BatchNorm2d(H_2, eps=0.01)\n",
        "    self.conv_3 = Layers.Conv2d(H_2, H_3, kernel_size=3, stride=1, padding=1)\n",
        "    self.batch_norm_3 = Layers.BatchNorm2d(H_3, eps=0.01)\n",
        "    self.conv_4 = Layers.Conv2d(H_3, H_4, 3, stride=1, padding=1)\n",
        "    self.batch_norm_4 = Layers.BatchNorm2d(H_4, eps=0.01)\n",
        "    self.linear_1 = Layers.Linear(1024 * 4 * 4, L_1)\n",
        "#     self.batch_norm_5 = Layers.BatchNorm2d(L_1)\n",
        "    self.linear_2 = Layers.Linear(L_1, L_2)\n",
        "    \n",
        "    self.linear_3 = Layers.Linear(L_2, L_1)\n",
        "#     self.batch_norm_5 = Layers.BatchNorm2d(L_1)\n",
        "    self.linear_4 = Layers.Linear(L_1, 1024 * 4 * 4)\n",
        "    self.batch_norm_5 = Layers.BatchNorm2d(H_4, eps=0.01)\n",
        "    self.conv_5 = Layers.Conv2d(H_4, H_3, 3, stride=1, padding=1)\n",
        "    self.batch_norm_6 = Layers.BatchNorm2d(H_3, eps=0.01)\n",
        "    self.conv_6 = Layers.Conv2d(H_3, H_2, 3, stride=1, padding=1)\n",
        "    self.batch_norm_7 = Layers.BatchNorm2d(H_2, eps=0.01)\n",
        "    self.conv_7 = Layers.Conv2d(H_2, H_1, 3, stride=1, padding=1)\n",
        "    self.batch_norm_8 = Layers.BatchNorm2d(H_1, eps=0.01)\n",
        "    self.conv_8 = Layers.Conv2d(H_1, D_in, 3, stride=1, padding=1)\n",
        "  \n",
        "  \n",
        "  def forward(self, x):\n",
        "    enc = F.max_pool2d(self.batch_norm_1(self.conv_1(x)), 2) # H_1 64 64\n",
        "    enc = F.max_pool2d(self.batch_norm_2(self.conv_2(enc)), 2) # H_2 32 32\n",
        "    enc = F.max_pool2d(self.batch_norm_3(self.conv_3(enc)), 2) # H_3 16 16\n",
        "    enc = F.max_pool2d(self.batch_norm_4(self.conv_4(enc)), 2) # D_in 8 8\n",
        "#     print(enc.size())\n",
        "    enc = enc.view(-1, 1024 * 4 * 4)\n",
        "#     print(enc.size())\n",
        "    enc = F.relu(self.linear_1(enc))\n",
        "#     enc = self.batch_norm_5(enc)\n",
        "#     enc = F.dropout2d(enc, 0.3)\n",
        "    enc = F.relu(self.linear_2(enc))\n",
        "#     print(enc.size())\n",
        "    dec = F.relu(self.linear_3(enc))\n",
        "#     dec = self.batch_norm_6(dec)\n",
        "#     dec = F.dropout2d(dec, 0.3)\n",
        "    dec = F.relu(self.linear_4(dec))\n",
        "#     print(dec.size())\n",
        "    dec = dec.view(-1, 1024, 4, 4)\n",
        "    dec = self.batch_norm_5(dec)\n",
        "    dec = F.interpolate(self.batch_norm_6(self.conv_5(dec)), 8)#, mode=\"bilinear\", align_corners=True)) # H_3 8 8\n",
        "    dec = F.interpolate(self.batch_norm_7(self.conv_6(dec)), 16)#, mode=\"bilinear\", align_corners=True)) # H_2 16 16\n",
        "    dec = F.interpolate(self.batch_norm_8(self.conv_7(dec)), 32)#, mode=\"bilinear\", align_corners=True)) # H_1 32 32\n",
        "    dec = F.interpolate(self.conv_8(dec), 64)#, mode=\"bilinear\", align_corners=True)) # D_in 64 64\n",
        "    \n",
        "    return enc, dec"
      ],
      "execution_count": 0,
      "outputs": []
    },
    {
      "metadata": {
        "id": "Y982_zcwR70a",
        "colab_type": "code",
        "colab": {}
      },
      "cell_type": "code",
      "source": [
        "def dump_model(model, path, epoch, optimizer, loss):\n",
        "  import torch\n",
        "  torch.save({\n",
        "            'epoch': epoch,\n",
        "            'model_state_dict': model.state_dict(),\n",
        "            'optimizer_state_dict': optimizer.state_dict(),\n",
        "            'loss': loss,\n",
        "            }, path) # \"gdrive/My Drive/encoder_project/model_checkpoint.model\"\n",
        "D_in, H_1, H_2, H_3, H_4, L_1, L_2 = 3, 128, 256, 512, 1024, 1000, 2000\n",
        "def load_model(path):\n",
        "  import torch\n",
        "  model = AutoEncoder(D_in, H_1, H_2, H_3, H_4, L_1, L_2).cuda().double()\n",
        "  optimizer = Opt.SGD(model.parameters(), lr=0.01)\n",
        "\n",
        "  checkpoint = torch.load(path)\n",
        "  model.load_state_dict(checkpoint['model_state_dict'])\n",
        "  optimizer.load_state_dict(checkpoint['optimizer_state_dict'])\n",
        "  epoch = checkpoint['epoch']\n",
        "  loss = checkpoint['loss']\n",
        "  \n",
        "  return model, optimizer, epoch, loss"
      ],
      "execution_count": 0,
      "outputs": []
    },
    {
      "metadata": {
        "id": "etzTbitzb1RS",
        "colab_type": "code",
        "colab": {}
      },
      "cell_type": "code",
      "source": [
        "try:\n",
        "  model\n",
        "except NameError:\n",
        "  model, optimizer, _, __ = load_model(\"gdrive/My Drive/encoder_project/model_light_checkpoint.model\")"
      ],
      "execution_count": 0,
      "outputs": []
    },
    {
      "metadata": {
        "id": "-S-yJiR6b1US",
        "colab_type": "code",
        "colab": {}
      },
      "cell_type": "code",
      "source": [
        "\n",
        "# model = AutoEncoder(D_in, H_1, H_2, H_3, H_4, L_1, L_2).cuda().double()\n",
        "# model = AutoEncoder().cuda().double()"
      ],
      "execution_count": 0,
      "outputs": []
    },
    {
      "metadata": {
        "id": "LL_IzNkTb1XS",
        "colab_type": "code",
        "colab": {}
      },
      "cell_type": "code",
      "source": [
        "# def init_weights(m):\n",
        "#     if type(m) == Layers.Linear:\n",
        "#         Layers.init.xavier_uniform_(m.weight)\n",
        "#         m.bias.data.fill_(0.01)\n",
        "#     if type(m) == Layers.Conv2d:\n",
        "#       Layers.init.xavier_uniform_(m.weight)\n",
        "#       m.bias.data.fill_(0.01)\n",
        "        \n",
        "# model.apply(init_weights)\n",
        "        \n",
        "criterion = Layers.MSELoss()\n",
        "# optimizer = Opt.SGD(model.parameters(), lr=0.01)"
      ],
      "execution_count": 0,
      "outputs": []
    },
    {
      "metadata": {
        "id": "xCgWJmUbb1c0",
        "colab_type": "code",
        "colab": {}
      },
      "cell_type": "code",
      "source": [
        "def fit(epoch, model, optimizer, data_loader, criterion, phase=\"training\"):\n",
        "  if phase == \"training\":\n",
        "    model.train()\n",
        "  if phase == \"validation\":\n",
        "    model.eval()\n",
        "  running_loss = 0.0\n",
        "  running_correct = 0.0\n",
        "  for batch_idx, data in enumerate(data_loader):\n",
        "    data, target = data.cuda(), data.cuda()\n",
        "    if phase == \"training\":\n",
        "      optimizer.zero_grad()\n",
        "    _, output = model(data)\n",
        "    loss = criterion(output, target)\n",
        "    \n",
        "    running_loss += loss\n",
        "    if phase == \"training\":\n",
        "      loss.backward()\n",
        "      optimizer.step()\n",
        "  \n",
        "  loss = running_loss / len(data_loader.dataset)\n",
        "  print(f\"{epoch}: {phase} loss is {loss}\")\n",
        "  \n",
        "  return loss"
      ],
      "execution_count": 0,
      "outputs": []
    },
    {
      "metadata": {
        "id": "TiTO8Es6b1gA",
        "colab_type": "code",
        "outputId": "a5e2cdcb-b1b4-42c3-d027-f2e3825d1e58",
        "colab": {
          "base_uri": "https://localhost:8080/",
          "height": 1907
        }
      },
      "cell_type": "code",
      "source": [
        "train_loss = []\n",
        "val_loss = []\n",
        "\n",
        "for epoch in range(_, 400):\n",
        "  epoch_loss = fit(epoch, model, optimizer, train, criterion, phase=\"training\")\n",
        "  dump_model(model, \"gdrive/My Drive/encoder_project/model_light_checkpoint.model\", \n",
        "             epoch, optimizer, epoch_loss)\n",
        "  if epoch % 30 == 0:\n",
        "    for i in train:\n",
        "      img = i\n",
        "      break\n",
        "    img = img[:1]\n",
        "    _ , pred = model(img.cuda())\n",
        "    plt.imshow(np.rot90(pred[0].detach().cpu().numpy().T, k=3))\n",
        "    plt.show();\n",
        "#   test_loss = fit(epoch, model, test, criterion, phase=\"validation\")\n",
        "#   train_loss.append(epoch_loss)\n",
        "#   val_loss.append(val_loss)"
      ],
      "execution_count": 0,
      "outputs": [
        {
          "output_type": "stream",
          "text": [
            "122: training loss is 0.0006582567285795026\n",
            "123: training loss is 0.0006565410257179052\n",
            "124: training loss is 0.0006559574996580905\n",
            "125: training loss is 0.0006544097384997903\n",
            "126: training loss is 0.0006554175169849274\n",
            "127: training loss is 0.000652015248521907\n",
            "128: training loss is 0.0006517830468452028\n",
            "129: training loss is 0.0006510820804584875\n",
            "130: training loss is 0.000650133866715932\n",
            "131: training loss is 0.0006492871023101033\n",
            "132: training loss is 0.0006481354743760668\n",
            "133: training loss is 0.0006475442088864707\n",
            "134: training loss is 0.0006464678018250889\n",
            "135: training loss is 0.0006467942113896713\n",
            "136: training loss is 0.0006442924348973839\n",
            "137: training loss is 0.0006449412255925471\n",
            "138: training loss is 0.0006445417386787156\n",
            "139: training loss is 0.0006454646118137808\n",
            "140: training loss is 0.0006415563540702887\n",
            "141: training loss is 0.0006423640341512224\n",
            "142: training loss is 0.0006411090347478198\n",
            "143: training loss is 0.0006379889465776752\n",
            "144: training loss is 0.0006378033651014285\n",
            "145: training loss is 0.0006386188268102197\n",
            "146: training loss is 0.0006384213336149618\n",
            "147: training loss is 0.0006370819869334468\n",
            "148: training loss is 0.0006363229360475417\n",
            "149: training loss is 0.0006357211557993703\n",
            "150: training loss is 0.0006341534936336081\n"
          ],
          "name": "stdout"
        },
        {
          "output_type": "stream",
          "text": [
            "Clipping input data to the valid range for imshow with RGB data ([0..1] for floats or [0..255] for integers).\n"
          ],
          "name": "stderr"
        },
        {
          "output_type": "display_data",
          "data": {
            "image/png": "[encoded data removed]",
            "text/plain": [
              "<Figure size 576x396 with 1 Axes>"
            ]
          },
          "metadata": {
            "tags": []
          }
        },
        {
          "output_type": "stream",
          "text": [
            "151: training loss is 0.0006329402791263046\n",
            "152: training loss is 0.000634304434852711\n"
          ],
          "name": "stdout"
        },
        {
          "output_type": "stream",
          "text": [
            "Traceback (most recent call last):\n",
            "Traceback (most recent call last):\n",
            "Traceback (most recent call last):\n",
            "  File \"/usr/lib/python3.6/multiprocessing/queues.py\", line 240, in _feed\n",
            "    send_bytes(obj)\n",
            "  File \"/usr/lib/python3.6/multiprocessing/queues.py\", line 240, in _feed\n",
            "    send_bytes(obj)\n",
            "  File \"/usr/lib/python3.6/multiprocessing/connection.py\", line 200, in send_bytes\n",
            "    self._send_bytes(m[offset:offset + size])\n",
            "Traceback (most recent call last):\n",
            "  File \"/usr/lib/python3.6/multiprocessing/connection.py\", line 200, in send_bytes\n",
            "    self._send_bytes(m[offset:offset + size])\n",
            "  File \"/usr/lib/python3.6/multiprocessing/queues.py\", line 240, in _feed\n",
            "    send_bytes(obj)\n",
            "  File \"/usr/lib/python3.6/multiprocessing/connection.py\", line 404, in _send_bytes\n",
            "    self._send(header + buf)\n",
            "  File \"/usr/lib/python3.6/multiprocessing/connection.py\", line 404, in _send_bytes\n",
            "    self._send(header + buf)\n",
            "  File \"/usr/lib/python3.6/multiprocessing/connection.py\", line 368, in _send\n",
            "    n = write(self._handle, buf)\n",
            "  File \"/usr/lib/python3.6/multiprocessing/connection.py\", line 368, in _send\n",
            "    n = write(self._handle, buf)\n",
            "BrokenPipeError: [Errno 32] Broken pipe\n",
            "BrokenPipeError: [Errno 32] Broken pipe\n",
            "  File \"/usr/lib/python3.6/multiprocessing/queues.py\", line 240, in _feed\n",
            "    send_bytes(obj)\n",
            "  File \"/usr/lib/python3.6/multiprocessing/connection.py\", line 200, in send_bytes\n",
            "    self._send_bytes(m[offset:offset + size])\n",
            "  File \"/usr/lib/python3.6/multiprocessing/connection.py\", line 404, in _send_bytes\n",
            "    self._send(header + buf)\n",
            "  File \"/usr/lib/python3.6/multiprocessing/connection.py\", line 368, in _send\n",
            "    n = write(self._handle, buf)\n"
          ],
          "name": "stderr"
        },
        {
          "output_type": "error",
          "ename": "KeyboardInterrupt",
          "evalue": "ignored",
          "traceback": [
            "\u001b[0;31m---------------------------------------------------------------------------\u001b[0m",
            "\u001b[0;31mKeyboardInterrupt\u001b[0m                         Traceback (most recent call last)",
            "\u001b[0;32m<ipython-input-24-65ecfa7a617f>\u001b[0m in \u001b[0;36m<module>\u001b[0;34m()\u001b[0m\n\u001b[1;32m      3\u001b[0m \u001b[0;34m\u001b[0m\u001b[0m\n\u001b[1;32m      4\u001b[0m \u001b[0;32mfor\u001b[0m \u001b[0mepoch\u001b[0m \u001b[0;32min\u001b[0m \u001b[0mrange\u001b[0m\u001b[0;34m(\u001b[0m\u001b[0m_\u001b[0m\u001b[0;34m,\u001b[0m \u001b[0;36m400\u001b[0m\u001b[0;34m)\u001b[0m\u001b[0;34m:\u001b[0m\u001b[0;34m\u001b[0m\u001b[0;34m\u001b[0m\u001b[0m\n\u001b[0;32m----> 5\u001b[0;31m   \u001b[0mepoch_loss\u001b[0m \u001b[0;34m=\u001b[0m \u001b[0mfit\u001b[0m\u001b[0;34m(\u001b[0m\u001b[0mepoch\u001b[0m\u001b[0;34m,\u001b[0m \u001b[0mmodel\u001b[0m\u001b[0;34m,\u001b[0m \u001b[0moptimizer\u001b[0m\u001b[0;34m,\u001b[0m \u001b[0mtrain\u001b[0m\u001b[0;34m,\u001b[0m \u001b[0mcriterion\u001b[0m\u001b[0;34m,\u001b[0m \u001b[0mphase\u001b[0m\u001b[0;34m=\u001b[0m\u001b[0;34m\"training\"\u001b[0m\u001b[0;34m)\u001b[0m\u001b[0;34m\u001b[0m\u001b[0;34m\u001b[0m\u001b[0m\n\u001b[0m\u001b[1;32m      6\u001b[0m   dump_model(model, \"gdrive/My Drive/encoder_project/model_light_checkpoint.model\", \n\u001b[1;32m      7\u001b[0m              epoch, optimizer, epoch_loss)\n",
            "\u001b[0;32m<ipython-input-21-c3a8e1e61711>\u001b[0m in \u001b[0;36mfit\u001b[0;34m(epoch, model, optimizer, data_loader, criterion, phase)\u001b[0m\n\u001b[1;32m      7\u001b[0m   \u001b[0mrunning_correct\u001b[0m \u001b[0;34m=\u001b[0m \u001b[0;36m0.0\u001b[0m\u001b[0;34m\u001b[0m\u001b[0;34m\u001b[0m\u001b[0m\n\u001b[1;32m      8\u001b[0m   \u001b[0;32mfor\u001b[0m \u001b[0mbatch_idx\u001b[0m\u001b[0;34m,\u001b[0m \u001b[0mdata\u001b[0m \u001b[0;32min\u001b[0m \u001b[0menumerate\u001b[0m\u001b[0;34m(\u001b[0m\u001b[0mdata_loader\u001b[0m\u001b[0;34m)\u001b[0m\u001b[0;34m:\u001b[0m\u001b[0;34m\u001b[0m\u001b[0;34m\u001b[0m\u001b[0m\n\u001b[0;32m----> 9\u001b[0;31m     \u001b[0mdata\u001b[0m\u001b[0;34m,\u001b[0m \u001b[0mtarget\u001b[0m \u001b[0;34m=\u001b[0m \u001b[0mdata\u001b[0m\u001b[0;34m.\u001b[0m\u001b[0mcuda\u001b[0m\u001b[0;34m(\u001b[0m\u001b[0;34m)\u001b[0m\u001b[0;34m,\u001b[0m \u001b[0mdata\u001b[0m\u001b[0;34m.\u001b[0m\u001b[0mcuda\u001b[0m\u001b[0;34m(\u001b[0m\u001b[0;34m)\u001b[0m\u001b[0;34m\u001b[0m\u001b[0;34m\u001b[0m\u001b[0m\n\u001b[0m\u001b[1;32m     10\u001b[0m     \u001b[0;32mif\u001b[0m \u001b[0mphase\u001b[0m \u001b[0;34m==\u001b[0m \u001b[0;34m\"training\"\u001b[0m\u001b[0;34m:\u001b[0m\u001b[0;34m\u001b[0m\u001b[0;34m\u001b[0m\u001b[0m\n\u001b[1;32m     11\u001b[0m       \u001b[0moptimizer\u001b[0m\u001b[0;34m.\u001b[0m\u001b[0mzero_grad\u001b[0m\u001b[0;34m(\u001b[0m\u001b[0;34m)\u001b[0m\u001b[0;34m\u001b[0m\u001b[0;34m\u001b[0m\u001b[0m\n",
            "\u001b[0;31mKeyboardInterrupt\u001b[0m: "
          ]
        },
        {
          "output_type": "stream",
          "text": [
            "BrokenPipeError: [Errno 32] Broken pipe\n",
            "  File \"/usr/lib/python3.6/multiprocessing/connection.py\", line 200, in send_bytes\n",
            "    self._send_bytes(m[offset:offset + size])\n",
            "  File \"/usr/lib/python3.6/multiprocessing/connection.py\", line 404, in _send_bytes\n",
            "    self._send(header + buf)\n",
            "  File \"/usr/lib/python3.6/multiprocessing/connection.py\", line 368, in _send\n",
            "    n = write(self._handle, buf)\n",
            "BrokenPipeError: [Errno 32] Broken pipe\n"
          ],
          "name": "stderr"
        }
      ]
    },
    {
      "metadata": {
        "id": "wWnmNIxKb1lm",
        "colab_type": "code",
        "colab": {}
      },
      "cell_type": "code",
      "source": [
        "# import torch\n",
        "# inp = torch.randn(32, 48)#.reshape(-1, 45, 45, 3)\n",
        "# inp = inp.view(-1, 3, 4, 4)\n",
        "# inp = inp.view(3, 8, 8)\n",
        "# m = torch.nn.Conv2d(3, 64, 3, stride=1, padding=1)\n",
        "# inp = m(inp)\n",
        "# inp = torch.nn.functional.max_pool2d(inp, 2) # 64 22 22\n",
        "# m = torch.nn.Conv2d(64, 16, 3, stride=1, padding=1) # 16 22 22\n",
        "# inp = torch.nn.functional.max_pool2d(m(inp), 2) # 16 11 11\n",
        "# m = torch.nn.Conv2d(16, 3, 3, stride=1, padding=1) # 3 11 11\n",
        "# inp = torch.nn.functional.max_pool2d(m(inp), 2) # 3 5 5\n",
        "\n",
        "\n",
        "# m = torch.nn.Conv2d(3, 16, 3, stride=1, padding=1)\n",
        "# inp = torch.nn.functional.interpolate(m(inp), 11, mode=\"bilinear\", align_corners=True)\n",
        "# m = torch.nn.Conv2d(16, 64, 3, stride=1, padding=1)\n",
        "# inp = torch.nn.functional.interpolate(m(inp), 22, mode=\"bilinear\", align_corners=True)\n",
        "# m = torch.nn.Conv2d(64, 3, 3, stride=1, padding=1)\n",
        "# inp = torch.nn.functional.interpolate(m(inp), 45, mode=\"bilinear\", align_corners=True)\n",
        "\n",
        "# inp.size()\n",
        "# F.dropout2d()\n",
        "incept = models.Inception3()"
      ],
      "execution_count": 0,
      "outputs": []
    },
    {
      "metadata": {
        "id": "Q1J9q_A4b1op",
        "colab_type": "code",
        "colab": {}
      },
      "cell_type": "code",
      "source": [
        "for i in train:\n",
        "  img = i\n",
        "  break\n",
        "img = img[:1]\n",
        "# img.size()\n",
        "_ , pred = model(img.cuda())"
      ],
      "execution_count": 0,
      "outputs": []
    },
    {
      "metadata": {
        "id": "Aq_MFVH6b1z8",
        "colab_type": "code",
        "outputId": "ba3fc583-017e-4ff5-b241-43bc8ad3f7bb",
        "colab": {
          "base_uri": "https://localhost:8080/",
          "height": 383
        }
      },
      "cell_type": "code",
      "source": [
        "plt.imshow(np.rot90(pred[0].detach().cpu().numpy().T, k=3))"
      ],
      "execution_count": 0,
      "outputs": [
        {
          "output_type": "stream",
          "text": [
            "Clipping input data to the valid range for imshow with RGB data ([0..1] for floats or [0..255] for integers).\n"
          ],
          "name": "stderr"
        },
        {
          "output_type": "execute_result",
          "data": {
            "text/plain": [
              "<matplotlib.image.AxesImage at 0x7f54460f33c8>"
            ]
          },
          "metadata": {
            "tags": []
          },
          "execution_count": 27
        },
        {
          "output_type": "display_data",
          "data": {
            "image/png": "[encoded data removed]",
            "text/plain": [
              "<Figure size 576x396 with 1 Axes>"
            ]
          },
          "metadata": {
            "tags": []
          }
        }
      ]
    },
    {
      "metadata": {
        "id": "cClRPRArb12y",
        "colab_type": "code",
        "outputId": "194dfad4-6260-4357-9f67-ca6c0a00ecbe",
        "colab": {
          "base_uri": "https://localhost:8080/",
          "height": 366
        }
      },
      "cell_type": "code",
      "source": [
        "plt.imshow(np.rot90(img[0].detach().cpu().numpy().T, k=3))"
      ],
      "execution_count": 0,
      "outputs": [
        {
          "output_type": "execute_result",
          "data": {
            "text/plain": [
              "<matplotlib.image.AxesImage at 0x7f99ca4a0358>"
            ]
          },
          "metadata": {
            "tags": []
          },
          "execution_count": 27
        },
        {
          "output_type": "display_data",
          "data": {
            "image/png": "[encoded data removed]",
            "text/plain": [
              "<Figure size 576x396 with 1 Axes>"
            ]
          },
          "metadata": {
            "tags": []
          }
        }
      ]
    },
    {
      "metadata": {
        "id": "rEL3xvqbb15v",
        "colab_type": "code",
        "outputId": "5434b470-e795-431c-f3d2-d578afd98c4f",
        "colab": {
          "base_uri": "https://localhost:8080/",
          "height": 367
        }
      },
      "cell_type": "code",
      "source": [
        "   plt.imshow(img.numpy()[0])"
      ],
      "execution_count": 0,
      "outputs": [
        {
          "output_type": "execute_result",
          "data": {
            "text/plain": [
              "<matplotlib.image.AxesImage at 0x7f252f2afb70>"
            ]
          },
          "metadata": {
            "tags": []
          },
          "execution_count": 112
        },
        {
          "output_type": "display_data",
          "data": {
            "image/png": "[encoded data removed]",
            "text/plain": [
              "<Figure size 576x396 with 1 Axes>"
            ]
          },
          "metadata": {
            "tags": []
          }
        }
      ]
    },
    {
      "metadata": {
        "id": "AX_xP97Tb18r",
        "colab_type": "code",
        "outputId": "15bcd8b8-6ff7-4935-c33a-eef961ca3871",
        "colab": {
          "base_uri": "https://localhost:8080/",
          "height": 34
        }
      },
      "cell_type": "code",
      "source": [
        "img.shape"
      ],
      "execution_count": 0,
      "outputs": [
        {
          "output_type": "execute_result",
          "data": {
            "text/plain": [
              "torch.Size([1, 250, 250, 3])"
            ]
          },
          "metadata": {
            "tags": []
          },
          "execution_count": 114
        }
      ]
    },
    {
      "metadata": {
        "id": "m-ExmEqzh1pE",
        "colab_type": "code",
        "outputId": "5b3d68da-65f9-45d0-cf95-cfb4440bedd4",
        "colab": {
          "base_uri": "https://localhost:8080/",
          "height": 122
        }
      },
      "cell_type": "code",
      "source": [
        ""
      ],
      "execution_count": 0,
      "outputs": [
        {
          "output_type": "stream",
          "text": [
            "Go to this URL in a browser: https://accounts.google.com/o/oauth2/auth?client_id=947318989803-6bn6qk8qdgf4n4g3pfee6491hc0brc4i.apps.googleusercontent.com&redirect_uri=urn%3Aietf%3Awg%3Aoauth%3A2.0%3Aoob&scope=email%20https%3A%2F%2Fwww.googleapis.com%2Fauth%2Fdocs.test%20https%3A%2F%2Fwww.googleapis.com%2Fauth%2Fdrive%20https%3A%2F%2Fwww.googleapis.com%2Fauth%2Fdrive.photos.readonly%20https%3A%2F%2Fwww.googleapis.com%2Fauth%2Fpeopleapi.readonly&response_type=code\n",
            "\n",
            "Enter your authorization code:\n",
            "··········\n",
            "Mounted at /content/gdrive\n"
          ],
          "name": "stdout"
        }
      ]
    },
    {
      "metadata": {
        "id": "cB0UqaaniMyQ",
        "colab_type": "code",
        "colab": {}
      },
      "cell_type": "code",
      "source": [
        "import torch\n",
        "torch.save({\n",
        "            'epoch': epoch,\n",
        "            'model_state_dict': model.state_dict(),\n",
        "            'optimizer_state_dict': optimizer.state_dict(),\n",
        "            'loss': epoch_loss,\n",
        "            }, \"gdrive/My Drive/encoder_project/model_checkpoint.model\")"
      ],
      "execution_count": 0,
      "outputs": []
    },
    {
      "metadata": {
        "id": "Wod80Q4YiM06",
        "colab_type": "code",
        "colab": {}
      },
      "cell_type": "code",
      "source": [
        "model = AutoEncoder().cuda().double()\n",
        "optimizer = Opt.SGD(model.parameters(), lr=0.01)\n",
        "\n",
        "checkpoint = torch.load(\"gdrive/My Drive/encoder_project/model_checkpoint.model\")\n",
        "model.load_state_dict(checkpoint['model_state_dict'])\n",
        "optimizer.load_state_dict(checkpoint['optimizer_state_dict'])\n",
        "epoch = checkpoint['epoch']\n",
        "loss = checkpoint['loss']"
      ],
      "execution_count": 0,
      "outputs": []
    },
    {
      "metadata": {
        "id": "6SvmWmReiM34",
        "colab_type": "code",
        "colab": {}
      },
      "cell_type": "code",
      "source": [
        ""
      ],
      "execution_count": 0,
      "outputs": []
    },
    {
      "metadata": {
        "id": "BjY1FiEziM62",
        "colab_type": "code",
        "colab": {}
      },
      "cell_type": "code",
      "source": [
        ""
      ],
      "execution_count": 0,
      "outputs": []
    },
    {
      "metadata": {
        "id": "9tGeelx8iNAh",
        "colab_type": "code",
        "colab": {}
      },
      "cell_type": "code",
      "source": [
        ""
      ],
      "execution_count": 0,
      "outputs": []
    }
  ]
}